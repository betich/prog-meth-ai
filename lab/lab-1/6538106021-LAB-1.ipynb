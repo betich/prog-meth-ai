{
 "cells": [
  {
   "cell_type": "markdown",
   "id": "63bcd970",
   "metadata": {
    "deletable": false,
    "editable": false,
    "nbgrader": {
     "cell_type": "markdown",
     "checksum": "44c2f260a346a16fad49e87f47dff35c",
     "grade": false,
     "grade_id": "cell-3e9ec0fb4439d51b",
     "locked": true,
     "schema_version": 3,
     "solution": false,
     "task": false
    }
   },
   "source": [
    "**Q1**: Implement the function named `even_or_odd(num)` that checks if the number `num` is odd or even, and returns the string \"odd\" or \"even\" accordingly."
   ]
  },
  {
   "cell_type": "code",
   "execution_count": 1,
   "id": "de51ff33",
   "metadata": {
    "deletable": false,
    "nbgrader": {
     "cell_type": "code",
     "checksum": "74ed1033903a763708b4d6f0e6c43735",
     "grade": false,
     "grade_id": "cell-70432f0a5b317430",
     "locked": false,
     "schema_version": 3,
     "solution": true,
     "task": false
    }
   },
   "outputs": [],
   "source": [
    "def even_or_odd(num):\n",
    "  # YOUR CODE HERE\n",
    "  return num % 2 == 0 and \"even\" or \"odd\""
   ]
  },
  {
   "cell_type": "code",
   "execution_count": 2,
   "id": "8ff21f11",
   "metadata": {
    "deletable": false,
    "editable": false,
    "nbgrader": {
     "cell_type": "code",
     "checksum": "1adcd5f10bca5770f29fd662bebae469",
     "grade": true,
     "grade_id": "cell-01ff4c49b163bc43",
     "locked": true,
     "points": 1,
     "schema_version": 3,
     "solution": false,
     "task": false
    }
   },
   "outputs": [
    {
     "name": "stdout",
     "output_type": "stream",
     "text": [
      "ok\n"
     ]
    }
   ],
   "source": [
    "# Test cases\n",
    "assert even_or_odd(0) == \"even\"\n",
    "assert even_or_odd(2) == \"even\"\n",
    "assert even_or_odd(-2) == \"even\"\n",
    "print('ok')"
   ]
  },
  {
   "cell_type": "code",
   "execution_count": 3,
   "id": "d44d798c",
   "metadata": {
    "deletable": false,
    "editable": false,
    "nbgrader": {
     "cell_type": "code",
     "checksum": "6c5ff8ec8b6040c1a809bf689bf2b65c",
     "grade": true,
     "grade_id": "cell-82342b52b9d30d79",
     "locked": true,
     "points": 1,
     "schema_version": 3,
     "solution": false,
     "task": false
    }
   },
   "outputs": [
    {
     "name": "stdout",
     "output_type": "stream",
     "text": [
      "ok\n"
     ]
    }
   ],
   "source": [
    "# Test cases\n",
    "assert even_or_odd(1) == \"odd\"\n",
    "assert even_or_odd(-1) == \"odd\"\n",
    "print('ok')"
   ]
  },
  {
   "cell_type": "markdown",
   "id": "60cb1bc6",
   "metadata": {
    "deletable": false,
    "editable": false,
    "nbgrader": {
     "cell_type": "markdown",
     "checksum": "907dd986bd3bf7f81bd0a7b04ff49902",
     "grade": false,
     "grade_id": "cell-b594d67f49cec6c4",
     "locked": true,
     "schema_version": 3,
     "solution": false,
     "task": false
    }
   },
   "source": [
    "**Q2**: Implement the function named `what_animal(characteristics)` that identifies the animal class from the given characteristics string using the phylogenetic tree below, and returns the animal class.\n",
    "\n",
    "![animal-phylogenetic-tree.png](https://drive.google.com/uc?id=1rbVbNugM3NKaI4sbsPF5uMatyE-ZpdKc)\n",
    "\n",
    "Example:\n",
    "\n",
    "-----Argument-----\\\n",
    "'Vertebral column, Hinged jaw, Legs, Egg with ammnion'\\\n",
    "-----Return--------\\\n",
    "'Lizard'\n",
    "\n",
    "-----Argument-----\\\n",
    "'Vertebral column, Legs, Hinged jaw'\\\n",
    "-----Return--------\\\n",
    "'Frog'\n"
   ]
  },
  {
   "cell_type": "code",
   "execution_count": 8,
   "id": "b08eedb7",
   "metadata": {
    "deletable": false,
    "nbgrader": {
     "cell_type": "code",
     "checksum": "2007ac4244314a76cb09349668d62fd9",
     "grade": false,
     "grade_id": "cell-7ed364d819021dc6",
     "locked": false,
     "schema_version": 3,
     "solution": true,
     "task": false
    }
   },
   "outputs": [],
   "source": [
    "def what_animal(characteristics):\n",
    "  # YOUR CODE HERE\n",
    "  characteristics = characteristics.split(\", \")\n",
    "\n",
    "  if 'Vertebral column' in characteristics:\n",
    "    if 'Hinged jaw' in characteristics:\n",
    "      if 'Legs' in characteristics:\n",
    "        if 'Egg with ammnion' in characteristics:\n",
    "          if 'Hair' in characteristics:\n",
    "            return 'Rabbit'\n",
    "          else: return 'Lizard'\n",
    "        else: return 'Frog'\n",
    "      else: return 'Fish'\n",
    "    else: return 'Lamprey'\n",
    "  else: return 'Lancelet'"
   ]
  },
  {
   "cell_type": "code",
   "execution_count": 9,
   "id": "290ad835",
   "metadata": {
    "deletable": false,
    "editable": false,
    "nbgrader": {
     "cell_type": "code",
     "checksum": "f17cca11adb8aae97eb38b13e83cc354",
     "grade": true,
     "grade_id": "cell-c89af4a9263520b3",
     "locked": true,
     "points": 1,
     "schema_version": 3,
     "solution": false,
     "task": false
    }
   },
   "outputs": [
    {
     "name": "stdout",
     "output_type": "stream",
     "text": [
      "ok\n"
     ]
    }
   ],
   "source": [
    "# Test cases\n",
    "assert(what_animal('Vertebral column, Hinged jaw, Legs, Egg with ammnion, Hair')== 'Rabbit')\n",
    "assert(what_animal('Hinged jaw, Vertebral column, Legs, Egg with ammnion, Hair')== 'Rabbit')\n",
    "assert(what_animal('Vertebral column, Egg with ammnion, Hinged jaw, Legs')== 'Lizard')\n",
    "assert(what_animal('Vertebral column, Hinged jaw, Legs, Egg with ammnion')== 'Lizard')\n",
    "assert(what_animal('Vertebral column, Hinged jaw, Legs')== 'Frog')\n",
    "assert(what_animal('Vertebral column, Hinged jaw')== 'Fish')\n",
    "assert(what_animal('Vertebral column')== 'Lamprey')\n",
    "assert(what_animal('')== 'Lancelet')\n",
    "print('ok')"
   ]
  },
  {
   "cell_type": "markdown",
   "id": "c14a11b1",
   "metadata": {
    "deletable": false,
    "editable": false,
    "nbgrader": {
     "cell_type": "markdown",
     "checksum": "59638a81fdbfdcbb7d73c5d79436ceb2",
     "grade": false,
     "grade_id": "cell-06991b59ce6870b3",
     "locked": true,
     "schema_version": 3,
     "solution": false,
     "task": false
    }
   },
   "source": [
    "**Q3**: Implement the function named `factorial(n)` that returns the factorial of a number `n` using `while` or `for`."
   ]
  },
  {
   "cell_type": "code",
   "execution_count": 5,
   "id": "5714a561",
   "metadata": {
    "deletable": false,
    "nbgrader": {
     "cell_type": "code",
     "checksum": "f2088374bf27b01dc179896c7d26b098",
     "grade": false,
     "grade_id": "cell-aaf79f77e9dfdd37",
     "locked": false,
     "schema_version": 3,
     "solution": true,
     "task": false
    }
   },
   "outputs": [],
   "source": [
    "def factorial(n):\n",
    "  # YOUR CODE HERE\n",
    "  if n == 0:\n",
    "    return 1\n",
    "  else:\n",
    "    return n * factorial(n-1)"
   ]
  },
  {
   "cell_type": "code",
   "execution_count": 7,
   "id": "4eea7b1c",
   "metadata": {
    "deletable": false,
    "editable": false,
    "nbgrader": {
     "cell_type": "code",
     "checksum": "a2ac0708ea1f3c0476a10e2a81807be6",
     "grade": true,
     "grade_id": "cell-ed52121c72bd381b",
     "locked": true,
     "points": 1,
     "schema_version": 3,
     "solution": false,
     "task": false
    }
   },
   "outputs": [
    {
     "name": "stdout",
     "output_type": "stream",
     "text": [
      "ok\n"
     ]
    }
   ],
   "source": [
    "# Test cases\n",
    "assert factorial(0) == 1\n",
    "assert factorial(1) == 1\n",
    "assert factorial(2) == 2\n",
    "print('ok')"
   ]
  },
  {
   "cell_type": "code",
   "execution_count": 6,
   "id": "8024db58",
   "metadata": {
    "deletable": false,
    "editable": false,
    "nbgrader": {
     "cell_type": "code",
     "checksum": "0d24ed46dc862aa2b4080debe203a992",
     "grade": true,
     "grade_id": "cell-8bfeb4d19a1f83cb",
     "locked": true,
     "points": 1,
     "schema_version": 3,
     "solution": false,
     "task": false
    }
   },
   "outputs": [
    {
     "name": "stdout",
     "output_type": "stream",
     "text": [
      "ok\n"
     ]
    }
   ],
   "source": [
    "# Test cases\n",
    "assert factorial(3) == 6\n",
    "assert factorial(4) == 24\n",
    "assert factorial(5) == 120\n",
    "print('ok')"
   ]
  },
  {
   "cell_type": "markdown",
   "id": "2be47045",
   "metadata": {
    "deletable": false,
    "editable": false,
    "nbgrader": {
     "cell_type": "markdown",
     "checksum": "6edeaeebb1c1bd78a170fbf38becb8f9",
     "grade": false,
     "grade_id": "cell-a111bc302b8c5af3",
     "locked": true,
     "schema_version": 3,
     "solution": false,
     "task": false
    }
   },
   "source": [
    "**Q4** : Implement the function named `search_sub_seq(dna_seq, sub_seq)` that searches for a nucleotide subsequence `sub_seq` in a given DNA sequence `dna_seq`, and returns the position of the first nucleotide subsequence if found or `None` otherwise. Note that the position of the nucleotide sequence starts at 1\n",
    "\n",
    "Example: \n",
    "\n",
    "-----Argument-----\\\n",
    "\"GGTACGTACGTACGTACGT\", \"ACGT\"\\\n",
    "-----Return--------\\\n",
    "4"
   ]
  },
  {
   "cell_type": "code",
   "execution_count": 15,
   "id": "ab4bd266",
   "metadata": {
    "deletable": false,
    "nbgrader": {
     "cell_type": "code",
     "checksum": "5bcb513c2045edfb1d19b603dc57461f",
     "grade": false,
     "grade_id": "cell-fad84e9a9c55d63a",
     "locked": false,
     "schema_version": 3,
     "solution": true,
     "task": false
    }
   },
   "outputs": [],
   "source": [
    "def search_sub_seq(dna_seq, sub_seq):\n",
    "  # YOUR CODE HERE\n",
    "  for i in range(len(dna_seq)):\n",
    "    if dna_seq[i:i+len(sub_seq)] == sub_seq:\n",
    "      return i+1\n",
    "  return None"
   ]
  },
  {
   "cell_type": "code",
   "execution_count": 13,
   "id": "36abdfe2",
   "metadata": {
    "deletable": false,
    "editable": false,
    "nbgrader": {
     "cell_type": "code",
     "checksum": "f05d3788224e9653c3604c11ab4a1e1c",
     "grade": true,
     "grade_id": "cell-3d173c04086a2a94",
     "locked": true,
     "points": 1,
     "schema_version": 3,
     "solution": false,
     "task": false
    }
   },
   "outputs": [
    {
     "name": "stdout",
     "output_type": "stream",
     "text": [
      "ok\n"
     ]
    }
   ],
   "source": [
    "# Test cases\n",
    "assert(search_sub_seq(\"ATGC\", \"TTT\")== None)\n",
    "print('ok')"
   ]
  },
  {
   "cell_type": "code",
   "execution_count": 16,
   "id": "4b06e3ed",
   "metadata": {
    "deletable": false,
    "editable": false,
    "nbgrader": {
     "cell_type": "code",
     "checksum": "152342d9ab8340856ead677b2de212eb",
     "grade": true,
     "grade_id": "cell-322745d8524ab45c",
     "locked": true,
     "points": 1,
     "schema_version": 3,
     "solution": false,
     "task": false
    }
   },
   "outputs": [
    {
     "name": "stdout",
     "output_type": "stream",
     "text": [
      "ok\n"
     ]
    }
   ],
   "source": [
    "# Test cases\n",
    "assert(search_sub_seq(\"ATGC\", \"C\")== 4)\n",
    "print('ok')"
   ]
  },
  {
   "cell_type": "code",
   "execution_count": 17,
   "id": "847e2192",
   "metadata": {
    "deletable": false,
    "editable": false,
    "nbgrader": {
     "cell_type": "code",
     "checksum": "aec82dac4a172f70a4ab31021cf6eb74",
     "grade": true,
     "grade_id": "cell-4e8341c8eb8be23c",
     "locked": true,
     "points": 1,
     "schema_version": 3,
     "solution": false,
     "task": false
    }
   },
   "outputs": [
    {
     "name": "stdout",
     "output_type": "stream",
     "text": [
      "ok\n"
     ]
    }
   ],
   "source": [
    "# Test cases\n",
    "assert(search_sub_seq(\"ATGC\", \"GC\")== 3)\n",
    "assert(search_sub_seq(\"GGTACGTACGTACGTACGT\", \"ACGT\")== 4)\n",
    "print('ok')"
   ]
  },
  {
   "cell_type": "markdown",
   "id": "e1f5ff9e",
   "metadata": {
    "deletable": false,
    "editable": false,
    "nbgrader": {
     "cell_type": "markdown",
     "checksum": "db2471d6e4c9e308bbf88db248a47b16",
     "grade": false,
     "grade_id": "cell-f2595d311fa7ebbb",
     "locked": true,
     "schema_version": 3,
     "solution": false,
     "task": false
    }
   },
   "source": [
    "**Q5**: Implement the function named `find_max_hypotenuse(perimeter)` that finds the maximum integer length of the hypotenuse of any right triangle subject to the perimeter length received. Note that we consider only those right triangles whose side lengths are all integers.\n",
    "For instance, if the given perimeter is 90, there are two possible triangles that meet the requirements: 15, 36, 39 and 9, 40, 41. Thus, the valure returned from this function is 41.\n",
    "\n",
    "![pythagoras.png](https://drive.google.com/uc?id=1vjYjrD8T35vkg_scMInIUZDn8J8bhaiJ)\n",
    "\n",
    "Example: \n",
    "\n",
    "-----Argument-----\\\n",
    "90\\\n",
    "-----Return--------\\\n",
    "41\\\n",
    "-----Argument-----\\\n",
    "30\\\n",
    "-----Return--------\\\n",
    "13"
   ]
  },
  {
   "cell_type": "code",
   "execution_count": 18,
   "id": "b2091e97",
   "metadata": {
    "deletable": false,
    "nbgrader": {
     "cell_type": "code",
     "checksum": "a29956a939426682491d26b9e709f8d6",
     "grade": false,
     "grade_id": "cell-36e24ba46b84fad3",
     "locked": false,
     "schema_version": 3,
     "solution": true,
     "task": false
    }
   },
   "outputs": [],
   "source": [
    "def find_max_hypotenuse(perimeter):\n",
    "  # YOUR CODE HERE\n",
    "\n",
    "  for i in range(1, perimeter//2):\n",
    "    for j in range(1, perimeter//2):\n",
    "      k = perimeter - i - j\n",
    "      if i**2 + j**2 == k**2:\n",
    "        return k\n",
    "  return None\n",
    "\n",
    "  "
   ]
  },
  {
   "cell_type": "code",
   "execution_count": 19,
   "id": "80fb0792",
   "metadata": {
    "deletable": false,
    "editable": false,
    "nbgrader": {
     "cell_type": "code",
     "checksum": "bb56b3b17b94f0bc31832f32605a0adf",
     "grade": true,
     "grade_id": "cell-48cc53ab925270a2",
     "locked": true,
     "points": 1,
     "schema_version": 3,
     "solution": false,
     "task": false
    }
   },
   "outputs": [
    {
     "name": "stdout",
     "output_type": "stream",
     "text": [
      "ok\n"
     ]
    }
   ],
   "source": [
    "# Test cases\n",
    "assert(find_max_hypotenuse(5)== None)\n",
    "assert(find_max_hypotenuse(1)== None)\n",
    "print('ok')"
   ]
  },
  {
   "cell_type": "code",
   "execution_count": 20,
   "id": "d7bd6bcf",
   "metadata": {
    "deletable": false,
    "editable": false,
    "nbgrader": {
     "cell_type": "code",
     "checksum": "9cd4e8f4168df4b972632076a3aee85c",
     "grade": true,
     "grade_id": "cell-5c12870de2a0a936",
     "locked": true,
     "points": 1,
     "schema_version": 3,
     "solution": false,
     "task": false
    }
   },
   "outputs": [
    {
     "name": "stdout",
     "output_type": "stream",
     "text": [
      "ok\n"
     ]
    }
   ],
   "source": [
    "# Test cases\n",
    "assert(find_max_hypotenuse(12)== 5)\n",
    "assert(find_max_hypotenuse(90)== 41)\n",
    "assert(find_max_hypotenuse(30)== 13)\n",
    "print('ok')"
   ]
  }
 ],
 "metadata": {
  "kernelspec": {
   "display_name": "Python 3 (ipykernel)",
   "language": "python",
   "name": "python3"
  },
  "language_info": {
   "codemirror_mode": {
    "name": "ipython",
    "version": 3
   },
   "file_extension": ".py",
   "mimetype": "text/x-python",
   "name": "python",
   "nbconvert_exporter": "python",
   "pygments_lexer": "ipython3",
   "version": "3.9.6"
  }
 },
 "nbformat": 4,
 "nbformat_minor": 5
}
