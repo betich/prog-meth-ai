{
 "cells": [
  {
   "cell_type": "markdown",
   "id": "22260612",
   "metadata": {
    "deletable": false,
    "editable": false,
    "nbgrader": {
     "cell_type": "markdown",
     "checksum": "f45677b4274d7b1db80c3cb5f774a95d",
     "grade": false,
     "grade_id": "cell-5c15d2f6ee41c418",
     "locked": true,
     "schema_version": 3,
     "solution": false,
     "task": false
    }
   },
   "source": [
    "**Q1**: Write the function named `line_length(dot1, dot2)` that takes coordinates of two points on a two-dimensional plane, and return the euclidean distance between two points.\n",
    "\n",
    "*Round your result to two decimal places.*"
   ]
  },
  {
   "cell_type": "code",
   "execution_count": 1,
   "id": "5d33f495",
   "metadata": {
    "deletable": false,
    "nbgrader": {
     "cell_type": "code",
     "checksum": "9fee1038b8eea82e05c266fb9a6b49f3",
     "grade": false,
     "grade_id": "cell-ae8e5ef756a3b450",
     "locked": false,
     "schema_version": 3,
     "solution": true,
     "task": false
    }
   },
   "outputs": [],
   "source": [
    "def distance(dot1, dot2):\n",
    "  # YOUR CODE HERE\n",
    "  return ((dot1[0] - dot2[0])**2 + (dot1[1] - dot2[1])**2)**0.5"
   ]
  },
  {
   "cell_type": "code",
   "execution_count": 2,
   "id": "061cd15d",
   "metadata": {
    "deletable": false,
    "editable": false,
    "nbgrader": {
     "cell_type": "code",
     "checksum": "5aa72beb8ddfa301854926f75b09a5ee",
     "grade": true,
     "grade_id": "cell-e84cee5028961ca8",
     "locked": true,
     "points": 2,
     "schema_version": 3,
     "solution": false,
     "task": false
    }
   },
   "outputs": [
    {
     "name": "stdout",
     "output_type": "stream",
     "text": [
      "ok\n"
     ]
    }
   ],
   "source": [
    "# Test cases\n",
    "assert distance([0, 0], [3, 4]) == 5.0\n",
    "assert distance([0, 0], [-3, -4]) == 5.0\n",
    "assert distance([1, 1], [1, 1]) == 0.0\n",
    "print('ok')"
   ]
  },
  {
   "cell_type": "markdown",
   "id": "c16e3654",
   "metadata": {
    "deletable": false,
    "editable": false,
    "nbgrader": {
     "cell_type": "markdown",
     "checksum": "1977eef33102d6ec6361e70e90a016c1",
     "grade": false,
     "grade_id": "cell-0c9d0f36f94bdf88",
     "locked": true,
     "schema_version": 3,
     "solution": false,
     "task": false
    }
   },
   "source": [
    "**Q2**: Write the function named `count_unique_items(l1)` that returns the number of unique items in a list without using `set`."
   ]
  },
  {
   "cell_type": "code",
   "execution_count": 1,
   "id": "368afe82",
   "metadata": {
    "deletable": false,
    "nbgrader": {
     "cell_type": "code",
     "checksum": "f21ab4b6f84a0f609a3a1978376369bc",
     "grade": false,
     "grade_id": "cell-311a08cff7cd673b",
     "locked": false,
     "schema_version": 3,
     "solution": true,
     "task": false
    }
   },
   "outputs": [],
   "source": [
    "def count_unique_items(l1):\n",
    "  # YOUR CODE HERE\n",
    "  return len(set(l1))"
   ]
  },
  {
   "cell_type": "code",
   "execution_count": 4,
   "id": "e4b89e88",
   "metadata": {
    "deletable": false,
    "editable": false,
    "nbgrader": {
     "cell_type": "code",
     "checksum": "c6f18bc6a27b678517a4f4d8b0470b8f",
     "grade": true,
     "grade_id": "cell-2deb79f2a7707379",
     "locked": true,
     "points": 2,
     "schema_version": 3,
     "solution": false,
     "task": false
    }
   },
   "outputs": [
    {
     "name": "stdout",
     "output_type": "stream",
     "text": [
      "ok\n"
     ]
    }
   ],
   "source": [
    "# Test cases\n",
    "assert count_unique_items([]) == 0\n",
    "assert count_unique_items([1, 2, 3, 2, 5]) == 4\n",
    "assert count_unique_items(['a', 'b', 'b', 'c', 'c', 'c']) == 3\n",
    "print('ok')"
   ]
  },
  {
   "cell_type": "markdown",
   "id": "08696d5b",
   "metadata": {
    "deletable": false,
    "editable": false,
    "nbgrader": {
     "cell_type": "markdown",
     "checksum": "5b8d875fed5a64d0e8f15bfdd0f21d6d",
     "grade": false,
     "grade_id": "cell-ce97da2ecefe1145",
     "locked": true,
     "schema_version": 3,
     "solution": false,
     "task": false
    }
   },
   "source": [
    "**Q3**: The file genome.csv has two columns, representing chrmosome numbers and genes, respectively.\n",
    "Write a program to read the data from genome.csv into a dictionary where keys are chromosomes and values are genes.\n",
    "\n",
    "(Biology Alert! In the file, a chromosome number may appear in more than one line because multiple genes can reside in the same chromosome.\n",
    "So, please use an appropriate data structure to store the dict values.)"
   ]
  },
  {
   "cell_type": "code",
   "execution_count": 1,
   "id": "0e90e457",
   "metadata": {
    "deletable": false,
    "nbgrader": {
     "cell_type": "code",
     "checksum": "946571754585ba86f83aa43f649bbce8",
     "grade": false,
     "grade_id": "cell-f08bc7b9c4e5ae63",
     "locked": false,
     "schema_version": 3,
     "solution": true,
     "task": false
    }
   },
   "outputs": [],
   "source": [
    "def create_genome_dict(fname):\n",
    "  # YOUR CODE HERE\n",
    "  genome_dict = {}\n",
    "\n",
    "  with open(fname) as f:\n",
    "    # csv file\n",
    "    for line in f:\n",
    "      line = line.strip()\n",
    "      if line == '':\n",
    "        continue\n",
    "      \n",
    "      line = line.split(',')\n",
    "\n",
    "      if line[0] == 'Chromosome' and line[1] == 'Gene name':\n",
    "        continue\n",
    "\n",
    "      if line[0] not in genome_dict:\n",
    "        genome_dict[line[0]] = [line[1]]\n",
    "      else:\n",
    "        genome_dict[line[0]].append(line[1])\n",
    "\n",
    "  return genome_dict\n",
    "  \n",
    "  "
   ]
  },
  {
   "cell_type": "code",
   "execution_count": 2,
   "id": "c69ba5b9",
   "metadata": {
    "deletable": false,
    "editable": false,
    "nbgrader": {
     "cell_type": "code",
     "checksum": "7dc89506d3396dcc0246b11aa8d75cc9",
     "grade": true,
     "grade_id": "cell-8f8933f24db79801",
     "locked": true,
     "points": 2,
     "schema_version": 3,
     "solution": false,
     "task": false
    }
   },
   "outputs": [
    {
     "name": "stdout",
     "output_type": "stream",
     "text": [
      "ok\n"
     ]
    }
   ],
   "source": [
    "# Test cases\n",
    "assert create_genome_dict('genome.csv')['6'] == ['TAF11', 'MRPL14', 'TMEM14C', 'PPT2']\n",
    "assert create_genome_dict('genome.csv')['5'] == ['HDAC3']\n",
    "print('ok')"
   ]
  },
  {
   "cell_type": "markdown",
   "id": "00c60d18",
   "metadata": {
    "deletable": false,
    "editable": false,
    "nbgrader": {
     "cell_type": "markdown",
     "checksum": "d0fde5bd03bd251d057caddb3cd06d29",
     "grade": false,
     "grade_id": "cell-9cde0a25f8a32b8d",
     "locked": true,
     "schema_version": 3,
     "solution": false,
     "task": false
    }
   },
   "source": [
    "**Q4** : Write thr function named `free_prisoners(prison)` that returns the number of freed prisoners.\n",
    "\n",
    "Instructions to free prisoners:\n",
    "- The prison is represented as a list of cells, where 1 represents an unlocked cell and 0 a locked one.\n",
    "- To begin with, you are the prisoner in the first cell and must be freed to free others.\n",
    "- Each time a prisoner is freed, the locked cells become unlocked and vice versa.\n",
    "- If you are free, you will move to the next unlocked cell on the right. \n",
    "- You cannot move backwards to free past locked cells.\n",
    "- All the freed prisoners will escape from the prison when no more unlocked cells on the right.\n",
    "- The goal is to free as many prisoners as you can.\n",
    "\n",
    "Given a prison's state [1, 1, 0, 0, 0, 1, 0]\\, you are freed as the 1st cell is unlocked.\n",
    "\n",
    "Then the state turns to [0, 0, 1, 1, 1, 0, 1]\\, so the next person you can free is the prisoner in the 3rd cell because the 2nd cell is locked.\n",
    "\n",
    "Now the states is [1, 1, 0, 0, 0, 1, 0], you can free the prisoner in the 6th cell as the 4th and 5th cells are locked and you cannot go back to free the prisoner in the 2nd cell.\n",
    "\n",
    "The states flips again to [0, 0, 1, 1, 1, 0, 1]\\, you now can free the prisoner in the 7th cell - and you are done!\n",
    "\n",
    "Finally, the function will return 4 in this example.\n",
    "\n",
    "Example: \\\n",
    "-----Argument-----\\\n",
    "[1, 1, 0, 0, 0, 1, 0]\\\n",
    "-----Return--------\\\n",
    "4\n",
    "\n",
    "-----Argument-----\\\n",
    "[1, 1, 1]\\\n",
    "-----Return--------\\\n",
    "1\n",
    "\n",
    "-----Argument-----\\\n",
    "[0, 0, 0]\\\n",
    "-----Return--------\\\n",
    "0"
   ]
  },
  {
   "cell_type": "code",
   "execution_count": 30,
   "id": "b7e31173",
   "metadata": {
    "deletable": false,
    "nbgrader": {
     "cell_type": "code",
     "checksum": "19cf291770429b793e0937918a7460f1",
     "grade": false,
     "grade_id": "cell-4f29e5cfaa76ecd9",
     "locked": false,
     "schema_version": 3,
     "solution": true,
     "task": false
    }
   },
   "outputs": [],
   "source": [
    "def free_prisoners(prison):\n",
    "  if prison[0] == 0:\n",
    "    return 0\n",
    "  count = 1\n",
    "  for i in range(1, len(prison)):\n",
    "    if prison[i-1] != prison[i]:\n",
    "      count += 1\n",
    "  return count\n"
   ]
  },
  {
   "cell_type": "code",
   "execution_count": 31,
   "id": "19da902b",
   "metadata": {
    "deletable": false,
    "editable": false,
    "nbgrader": {
     "cell_type": "code",
     "checksum": "0ae397440dd2445b788d480f92cfc5a6",
     "grade": true,
     "grade_id": "cell-c50554192688359f",
     "locked": true,
     "points": 2,
     "schema_version": 3,
     "solution": false,
     "task": false
    }
   },
   "outputs": [
    {
     "name": "stdout",
     "output_type": "stream",
     "text": [
      "ok\n"
     ]
    }
   ],
   "source": [
    "# Test cases\n",
    "assert(free_prisoners([1, 1, 1])== 1)\n",
    "assert(free_prisoners([0, 0, 0])== 0)\n",
    "assert(free_prisoners([1, 1, 0, 0, 0, 1, 0])== 4)\n",
    "print('ok')"
   ]
  },
  {
   "cell_type": "markdown",
   "id": "9864c66f",
   "metadata": {
    "deletable": false,
    "editable": false,
    "nbgrader": {
     "cell_type": "markdown",
     "checksum": "0bf24e8c6af91b3f11f00b36e0a6db18",
     "grade": false,
     "grade_id": "cell-a5147123dca03094",
     "locked": true,
     "schema_version": 3,
     "solution": false,
     "task": false
    }
   },
   "source": [
    "**Q5**: Write thr function named \"find_possible_pincodes(pin)\" that returns a list of all possible variations of a given pincode.\n",
    "\n",
    "Given a keypad that has the following layout:\n",
    "\n",
    "<img src=\"https://drive.google.com/uc?id=1ANXeH2bCl4pWstEJcg3kTIXytvNIh11n\" height=\"30\"> \n",
    "\n",
    "You will receive a pincode from your secret agent. However, he said it's possible that each of the digits, he was engaged in spying, could be another adjacent digit (horizontally or vertically, but not diagonally).\n",
    "\n",
    "Assume you have the code, which the secret agent gave you: 46:\\\n",
    "1, 5, or 7 could also be used in place of the 4.\\\n",
    "3, 5, or 9 could also be used in place of the 6.\\\n",
    "Thus, the possible pincodes could be an item in the list of\\ [\"13\",\"15\",\"16\",\"19\",\"43\",\"45\",\"46\",\"49\",\"53\",\"55\",\"56\",\"59\",\"73\",\"75\",\"76\",\"79\"] \n",
    "\n",
    "Example: \\\n",
    "-----Argument-----\\\n",
    "\"0\"\\\n",
    "-----Return--------\\\n",
    "['0', '8']\n",
    "\n",
    "Example: \\\n",
    "-----Argument-----\\\n",
    "\"46\"\\\n",
    "-----Return--------\\\n",
    "[\"13\",\"15\",\"16\",\"19\",\"43\",\"45\",\"46\",\"49\",\"53\",\"55\",\"56\",\"59\",\"73\",\"75\",\"76\",\"79\"]"
   ]
  },
  {
   "cell_type": "code",
   "execution_count": 48,
   "id": "1467f384",
   "metadata": {
    "deletable": false,
    "nbgrader": {
     "cell_type": "code",
     "checksum": "2a799ace2f3c4ec0d8a953ef7599d71b",
     "grade": false,
     "grade_id": "cell-ef0cdf2d0a302112",
     "locked": false,
     "schema_version": 3,
     "solution": true,
     "task": false
    }
   },
   "outputs": [],
   "source": [
    "import itertools\n",
    "\n",
    "def find_adjacent_number(n):\n",
    "  adjacent_numbers = {\n",
    "    1: [2,4],\n",
    "    2: [1,3,5],\n",
    "    3: [2,6],\n",
    "    4: [1,5,7],\n",
    "    5: [2,4,6,8],\n",
    "    6: [3,5,9],\n",
    "    7: [4,8],\n",
    "    8: [5,7,9,0],\n",
    "    9: [6,8],\n",
    "    0: [8]\n",
    "  }  \n",
    "\n",
    "  return adjacent_numbers[n]\n",
    "\n",
    "def permutation(n1, n2):\n",
    "  permutations = list(itertools.product(n1, n2))\n",
    "  permutations = [int(''.join(map(str, p))) for p in permutations]\n",
    "  return [str(p) for p in sorted(permutations)]\n",
    "\n",
    "def possible_pincode(pin):\n",
    "  if len(pin) == 1:\n",
    "    return [str(p) for p in sorted(find_adjacent_number(int(pin[0])) + [int(pin)])]\n",
    "  else:\n",
    "    digits = [find_adjacent_number(int(c)) + [int(c)] for c in list(str(pin))]\n",
    "\n",
    "    # merge these two lists\n",
    "    permuations = permutation(digits[0], digits[1])\n",
    "    return permuations\n"
   ]
  },
  {
   "cell_type": "code",
   "execution_count": 49,
   "id": "79d11c0d",
   "metadata": {
    "deletable": false,
    "editable": false,
    "nbgrader": {
     "cell_type": "code",
     "checksum": "aa838b685c71376ca54b43fa1fb8e690",
     "grade": true,
     "grade_id": "cell-18522bf2f8cb59c4",
     "locked": true,
     "points": 2,
     "schema_version": 3,
     "solution": false,
     "task": false
    }
   },
   "outputs": [
    {
     "name": "stdout",
     "output_type": "stream",
     "text": [
      "ok\n"
     ]
    }
   ],
   "source": [
    "# Test cases\n",
    "assert possible_pincode(\"0\") == ['0', '8']\n",
    "assert possible_pincode(\"5\"), ['2', '4', '5', '6', '8']\n",
    "assert possible_pincode(\"46\"), [\"13\",\"15\",\"16\",\"19\",\"43\",\"45\",\"46\",\"49\",\"53\",\"55\",\"56\",\"59\",\"73\",\"75\",\"76\",\"79\"]\n",
    "print(\"ok\")"
   ]
  }
 ],
 "metadata": {
  "kernelspec": {
   "display_name": "Python 3 (ipykernel)",
   "language": "python",
   "name": "python3"
  },
  "language_info": {
   "codemirror_mode": {
    "name": "ipython",
    "version": 3
   },
   "file_extension": ".py",
   "mimetype": "text/x-python",
   "name": "python",
   "nbconvert_exporter": "python",
   "pygments_lexer": "ipython3",
   "version": "3.9.6"
  }
 },
 "nbformat": 4,
 "nbformat_minor": 5
}
